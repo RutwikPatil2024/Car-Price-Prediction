{
 "cells": [
  {
   "cell_type": "code",
   "execution_count": 9,
   "id": "472785a9-e505-46d4-a0f6-c1e074252f88",
   "metadata": {},
   "outputs": [],
   "source": [
    "#Import Library\n",
    "import numpy as np\n",
    "import pandas as pd\n"
   ]
  },
  {
   "cell_type": "code",
   "execution_count": 10,
   "id": "7969ada6-adb1-484e-ba0b-08474965dba6",
   "metadata": {},
   "outputs": [
    {
     "data": {
      "text/html": [
       "<div>\n",
       "<style scoped>\n",
       "    .dataframe tbody tr th:only-of-type {\n",
       "        vertical-align: middle;\n",
       "    }\n",
       "\n",
       "    .dataframe tbody tr th {\n",
       "        vertical-align: top;\n",
       "    }\n",
       "\n",
       "    .dataframe thead th {\n",
       "        text-align: right;\n",
       "    }\n",
       "</style>\n",
       "<table border=\"1\" class=\"dataframe\">\n",
       "  <thead>\n",
       "    <tr style=\"text-align: right;\">\n",
       "      <th></th>\n",
       "      <th>name</th>\n",
       "      <th>company</th>\n",
       "      <th>year</th>\n",
       "      <th>Price</th>\n",
       "      <th>kms_driven</th>\n",
       "      <th>fuel_type</th>\n",
       "    </tr>\n",
       "  </thead>\n",
       "  <tbody>\n",
       "    <tr>\n",
       "      <th>0</th>\n",
       "      <td>Hyundai Santro Xing XO eRLX Euro III</td>\n",
       "      <td>Hyundai</td>\n",
       "      <td>2007</td>\n",
       "      <td>80,000</td>\n",
       "      <td>45,000 kms</td>\n",
       "      <td>Petrol</td>\n",
       "    </tr>\n",
       "    <tr>\n",
       "      <th>1</th>\n",
       "      <td>Mahindra Jeep CL550 MDI</td>\n",
       "      <td>Mahindra</td>\n",
       "      <td>2006</td>\n",
       "      <td>4,25,000</td>\n",
       "      <td>40 kms</td>\n",
       "      <td>Diesel</td>\n",
       "    </tr>\n",
       "    <tr>\n",
       "      <th>2</th>\n",
       "      <td>Maruti Suzuki Alto 800 Vxi</td>\n",
       "      <td>Maruti</td>\n",
       "      <td>2018</td>\n",
       "      <td>Ask For Price</td>\n",
       "      <td>22,000 kms</td>\n",
       "      <td>Petrol</td>\n",
       "    </tr>\n",
       "    <tr>\n",
       "      <th>3</th>\n",
       "      <td>Hyundai Grand i10 Magna 1.2 Kappa VTVT</td>\n",
       "      <td>Hyundai</td>\n",
       "      <td>2014</td>\n",
       "      <td>3,25,000</td>\n",
       "      <td>28,000 kms</td>\n",
       "      <td>Petrol</td>\n",
       "    </tr>\n",
       "    <tr>\n",
       "      <th>4</th>\n",
       "      <td>Ford EcoSport Titanium 1.5L TDCi</td>\n",
       "      <td>Ford</td>\n",
       "      <td>2014</td>\n",
       "      <td>5,75,000</td>\n",
       "      <td>36,000 kms</td>\n",
       "      <td>Diesel</td>\n",
       "    </tr>\n",
       "    <tr>\n",
       "      <th>...</th>\n",
       "      <td>...</td>\n",
       "      <td>...</td>\n",
       "      <td>...</td>\n",
       "      <td>...</td>\n",
       "      <td>...</td>\n",
       "      <td>...</td>\n",
       "    </tr>\n",
       "    <tr>\n",
       "      <th>887</th>\n",
       "      <td>Ta</td>\n",
       "      <td>Tara</td>\n",
       "      <td>zest</td>\n",
       "      <td>3,10,000</td>\n",
       "      <td>NaN</td>\n",
       "      <td>NaN</td>\n",
       "    </tr>\n",
       "    <tr>\n",
       "      <th>888</th>\n",
       "      <td>Tata Zest XM Diesel</td>\n",
       "      <td>Tata</td>\n",
       "      <td>2018</td>\n",
       "      <td>2,60,000</td>\n",
       "      <td>27,000 kms</td>\n",
       "      <td>Diesel</td>\n",
       "    </tr>\n",
       "    <tr>\n",
       "      <th>889</th>\n",
       "      <td>Mahindra Quanto C8</td>\n",
       "      <td>Mahindra</td>\n",
       "      <td>2013</td>\n",
       "      <td>3,90,000</td>\n",
       "      <td>40,000 kms</td>\n",
       "      <td>Diesel</td>\n",
       "    </tr>\n",
       "    <tr>\n",
       "      <th>890</th>\n",
       "      <td>Honda Amaze 1.2 E i VTEC</td>\n",
       "      <td>Honda</td>\n",
       "      <td>2014</td>\n",
       "      <td>1,80,000</td>\n",
       "      <td>Petrol</td>\n",
       "      <td>NaN</td>\n",
       "    </tr>\n",
       "    <tr>\n",
       "      <th>891</th>\n",
       "      <td>Chevrolet Sail 1.2 LT ABS</td>\n",
       "      <td>Chevrolet</td>\n",
       "      <td>2014</td>\n",
       "      <td>1,60,000</td>\n",
       "      <td>Petrol</td>\n",
       "      <td>NaN</td>\n",
       "    </tr>\n",
       "  </tbody>\n",
       "</table>\n",
       "<p>892 rows × 6 columns</p>\n",
       "</div>"
      ],
      "text/plain": [
       "                                       name    company  year          Price  \\\n",
       "0      Hyundai Santro Xing XO eRLX Euro III    Hyundai  2007         80,000   \n",
       "1                   Mahindra Jeep CL550 MDI   Mahindra  2006       4,25,000   \n",
       "2                Maruti Suzuki Alto 800 Vxi     Maruti  2018  Ask For Price   \n",
       "3    Hyundai Grand i10 Magna 1.2 Kappa VTVT    Hyundai  2014       3,25,000   \n",
       "4          Ford EcoSport Titanium 1.5L TDCi       Ford  2014       5,75,000   \n",
       "..                                      ...        ...   ...            ...   \n",
       "887                                      Ta       Tara  zest       3,10,000   \n",
       "888                     Tata Zest XM Diesel       Tata  2018       2,60,000   \n",
       "889                      Mahindra Quanto C8   Mahindra  2013       3,90,000   \n",
       "890                Honda Amaze 1.2 E i VTEC      Honda  2014       1,80,000   \n",
       "891               Chevrolet Sail 1.2 LT ABS  Chevrolet  2014       1,60,000   \n",
       "\n",
       "     kms_driven fuel_type  \n",
       "0    45,000 kms    Petrol  \n",
       "1        40 kms    Diesel  \n",
       "2    22,000 kms    Petrol  \n",
       "3    28,000 kms    Petrol  \n",
       "4    36,000 kms    Diesel  \n",
       "..          ...       ...  \n",
       "887         NaN       NaN  \n",
       "888  27,000 kms    Diesel  \n",
       "889  40,000 kms    Diesel  \n",
       "890      Petrol       NaN  \n",
       "891      Petrol       NaN  \n",
       "\n",
       "[892 rows x 6 columns]"
      ]
     },
     "execution_count": 10,
     "metadata": {},
     "output_type": "execute_result"
    }
   ],
   "source": [
    "ds=pd.read_csv(\"Data.csv\")\n",
    "ds"
   ]
  },
  {
   "cell_type": "code",
   "execution_count": 11,
   "id": "41cdfd9a-ce16-4567-8df3-f24acb7cf505",
   "metadata": {},
   "outputs": [
    {
     "name": "stdout",
     "output_type": "stream",
     "text": [
      "<class 'pandas.core.frame.DataFrame'>\n",
      "RangeIndex: 892 entries, 0 to 891\n",
      "Data columns (total 6 columns):\n",
      " #   Column      Non-Null Count  Dtype \n",
      "---  ------      --------------  ----- \n",
      " 0   name        892 non-null    object\n",
      " 1   company     892 non-null    object\n",
      " 2   year        892 non-null    object\n",
      " 3   Price       892 non-null    object\n",
      " 4   kms_driven  840 non-null    object\n",
      " 5   fuel_type   837 non-null    object\n",
      "dtypes: object(6)\n",
      "memory usage: 41.9+ KB\n"
     ]
    }
   ],
   "source": [
    "ds.info()"
   ]
  },
  {
   "cell_type": "code",
   "execution_count": 13,
   "id": "2143a192-6abc-4b41-aa2b-abb607e65092",
   "metadata": {},
   "outputs": [
    {
     "data": {
      "text/plain": [
       "array(['2007', '2006', '2018', '2014', '2015', '2012', '2013', '2016',\n",
       "       '2010', '2017', '2008', '2011', '2019', '2009', '2005', '2000',\n",
       "       '...', '150k', 'TOUR', '2003', 'r 15', '2004', 'Zest', '/-Rs',\n",
       "       'sale', '1995', 'ara)', '2002', 'SELL', '2001', 'tion', 'odel',\n",
       "       '2 bs', 'arry', 'Eon', 'o...', 'ture', 'emi', 'car', 'able', 'no.',\n",
       "       'd...', 'SALE', 'digo', 'sell', 'd Ex', 'n...', 'e...', 'D...',\n",
       "       ', Ac', 'go .', 'k...', 'o c4', 'zire', 'cent', 'Sumo', 'cab',\n",
       "       't xe', 'EV2', 'r...', 'zest'], dtype=object)"
      ]
     },
     "execution_count": 13,
     "metadata": {},
     "output_type": "execute_result"
    }
   ],
   "source": [
    "ds[\"year\"].unique()"
   ]
  },
  {
   "cell_type": "code",
   "execution_count": 14,
   "id": "44c2d069-0f3f-4bdd-865b-b0f740fe821d",
   "metadata": {},
   "outputs": [],
   "source": [
    "ds= ds[ds[\"year\"].str.isnumeric()]"
   ]
  },
  {
   "cell_type": "code",
   "execution_count": 15,
   "id": "54cca29d-45ba-4551-a954-13caff11f92d",
   "metadata": {},
   "outputs": [
    {
     "name": "stdout",
     "output_type": "stream",
     "text": [
      "<class 'pandas.core.frame.DataFrame'>\n",
      "Index: 842 entries, 0 to 891\n",
      "Data columns (total 6 columns):\n",
      " #   Column      Non-Null Count  Dtype \n",
      "---  ------      --------------  ----- \n",
      " 0   name        842 non-null    object\n",
      " 1   company     842 non-null    object\n",
      " 2   year        842 non-null    object\n",
      " 3   Price       842 non-null    object\n",
      " 4   kms_driven  840 non-null    object\n",
      " 5   fuel_type   837 non-null    object\n",
      "dtypes: object(6)\n",
      "memory usage: 46.0+ KB\n"
     ]
    }
   ],
   "source": [
    "ds.info()"
   ]
  },
  {
   "cell_type": "code",
   "execution_count": 17,
   "id": "e5347a9f-2e89-48c5-9ed7-b07dee17639a",
   "metadata": {},
   "outputs": [],
   "source": [
    "# ds[\"year\"]=pd.to_numeric(ds[\"year\"])\n",
    "ds.loc[:, \"year\"] = pd.to_numeric(ds[\"year\"])\n"
   ]
  },
  {
   "cell_type": "code",
   "execution_count": 18,
   "id": "cdfa690b-9a69-4192-9331-580783d95ee9",
   "metadata": {},
   "outputs": [
    {
     "name": "stdout",
     "output_type": "stream",
     "text": [
      "<class 'pandas.core.frame.DataFrame'>\n",
      "Index: 842 entries, 0 to 891\n",
      "Data columns (total 6 columns):\n",
      " #   Column      Non-Null Count  Dtype \n",
      "---  ------      --------------  ----- \n",
      " 0   name        842 non-null    object\n",
      " 1   company     842 non-null    object\n",
      " 2   year        842 non-null    int64 \n",
      " 3   Price       842 non-null    object\n",
      " 4   kms_driven  840 non-null    object\n",
      " 5   fuel_type   837 non-null    object\n",
      "dtypes: int64(1), object(5)\n",
      "memory usage: 46.0+ KB\n"
     ]
    }
   ],
   "source": [
    "ds.info()"
   ]
  },
  {
   "cell_type": "code",
   "execution_count": 31,
   "id": "ee3824d4-bfde-4d0a-8ebb-3ae215ea94c7",
   "metadata": {},
   "outputs": [
    {
     "data": {
      "text/plain": [
       "array([  80000.,  425000.,      nan,  325000.,  575000.,  175000.,\n",
       "        190000.,  830000.,  250000.,  182000.,  315000.,  415000.,\n",
       "        320000., 1000000.,  500000.,  350000.,  160000.,  310000.,\n",
       "         75000.,  100000.,  290000.,   95000.,  180000.,  385000.,\n",
       "        105000.,  650000.,  689999.,  448000.,  549000.,  501000.,\n",
       "        489999.,  280000.,  349999.,  284999.,  345000.,  499999.,\n",
       "        235000.,  249999., 1475000.,  395000.,  220000.,  170000.,\n",
       "         85000.,  200000.,  570000.,  110000.,  448999., 1891111.,\n",
       "        159500.,  344999.,  449999.,  865000.,  699000.,  375000.,\n",
       "        224999., 1200000.,  195000.,  351000.,  240000.,   90000.,\n",
       "        155000.,  600000.,  189500.,  210000.,  390000.,  135000.,\n",
       "       1600000.,  701000.,  265000.,  525000.,  372000.,  635000.,\n",
       "        550000.,  485000.,  329500.,  251111.,  569999.,   69999.,\n",
       "        299999.,  399999.,  450000.,  270000.,  158400.,  179000.,\n",
       "        125000.,  299000.,  150000.,  275000.,  285000.,  340000.,\n",
       "         70000.,  289999.,  849999.,  749999.,  274999.,  984999.,\n",
       "        599999.,  244999.,  474999.,  245000.,  169500.,  370000.,\n",
       "        168000.,  145000.,   98500.,  209000.,  185000.,  900000.,\n",
       "        699999.,  199999.,  544999.,  199000.,  540000.,   49000.,\n",
       "        700000.,   55000.,  895000.,  355000.,  565000.,  365000.,\n",
       "         40000.,  400000.,  330000.,  580000.,  379000.,  219000.,\n",
       "        519000.,  730000., 2000000., 2100000., 1400000.,  311000.,\n",
       "        855000.,  535000.,  178000.,  300000.,  255000.,  549999.,\n",
       "        380000.,   57000.,  410000.,  225000.,  120000.,   59000.,\n",
       "        599000.,  675000.,   72500.,  610000.,  230000.,  520000.,\n",
       "        524999.,  424999.,  644999.,  584999.,  799999.,  444999.,\n",
       "        649999.,  944999.,  574999.,  374999.,  130000.,  401000.,\n",
       "       1350000.,  174999.,  239999.,   99999.,  324999., 1074999.,\n",
       "       1130000.,  149000.,  770000.,   30000.,  335000.,  399000.,\n",
       "         65000.,  169999.,  165000.,  560000.,  950000.,  715000.,\n",
       "         45000.,  940000.,  155555., 1500000.,  495000.,  800000.,\n",
       "       1299000.,  530000., 1499000.,   32000.,  405000.,  760000.,\n",
       "        750000.,  419000.,  140000., 1540000.,  123000.,  498000.,\n",
       "        480000.,  488000., 1525000.,  548900.,  725000.,   99000.,\n",
       "         52000., 2800000.,  499000.,  381000.,  278000.,  690000.,\n",
       "        260000.,   90001.,  115000., 1599000.,  159000.,   51999.,\n",
       "        215000.,   35000., 1150000.,  269000.,   60000.,  430000.,\n",
       "       8500003.,  401919.,  490000.,  424000.,  205000.,  549900.,\n",
       "        435000.,  189700.,  389700.,  360000.,  295000.,  114990.,\n",
       "       1065000.,  470000.,   48000.,  188000.,  465000.,  179999.,\n",
       "       2190000., 2390000., 1075000.,  475000., 1025000.,  615000.,\n",
       "       1900000., 1490000., 1510000., 1850000.,  790000., 1725000.,\n",
       "       1225000.,   68000.,  970000., 3100000.,  899000.,   88000.,\n",
       "         53000.,  568500.,   71000.,  590000.,  795000.,   42000.,\n",
       "        189000.,  162000.,   35999., 2900000.,   39999.,   50500.,\n",
       "        510000.,  860000.,  500001.])"
      ]
     },
     "execution_count": 31,
     "metadata": {},
     "output_type": "execute_result"
    }
   ],
   "source": [
    "ds[\"Price\"].unique()"
   ]
  },
  {
   "cell_type": "code",
   "execution_count": 22,
   "id": "cdb546a2-a195-49a5-a81f-547d9aa06d80",
   "metadata": {},
   "outputs": [],
   "source": [
    "for i in ds.index:\n",
    "    price = ds.loc[i, \"Price\"]  \n",
    "    price = price.replace(\",\", \"\") \n",
    "    ds.loc[i, \"Price\"] = price  \n"
   ]
  },
  {
   "cell_type": "code",
   "execution_count": 28,
   "id": "c558ea09-e6a3-4e8a-880d-a973cb0c1608",
   "metadata": {},
   "outputs": [],
   "source": [
    "ds.loc[:, \"Price\"] = pd.to_numeric(\n",
    "    ds[\"Price\"].astype(str).str.replace(\",\", \"\", regex=False),\n",
    "    errors=\"coerce\"\n",
    ")\n",
    "\n"
   ]
  },
  {
   "cell_type": "code",
   "execution_count": 30,
   "id": "4102c3bd-80ee-4cb1-9acf-68d2f90081b9",
   "metadata": {},
   "outputs": [],
   "source": [
    "ds.loc[:, \"Price\"] = pd.to_numeric(ds[\"Price\"])"
   ]
  },
  {
   "cell_type": "code",
   "execution_count": 33,
   "id": "86ebc9e7-e323-486e-8376-d493ef8c6dad",
   "metadata": {},
   "outputs": [
    {
     "name": "stdout",
     "output_type": "stream",
     "text": [
      "<class 'pandas.core.frame.DataFrame'>\n",
      "Index: 842 entries, 0 to 891\n",
      "Data columns (total 6 columns):\n",
      " #   Column      Non-Null Count  Dtype  \n",
      "---  ------      --------------  -----  \n",
      " 0   name        842 non-null    object \n",
      " 1   company     842 non-null    object \n",
      " 2   year        842 non-null    int64  \n",
      " 3   Price       819 non-null    float64\n",
      " 4   kms_driven  840 non-null    object \n",
      " 5   fuel_type   837 non-null    object \n",
      "dtypes: float64(1), int64(1), object(4)\n",
      "memory usage: 78.3+ KB\n"
     ]
    }
   ],
   "source": [
    "ds.info()"
   ]
  },
  {
   "cell_type": "code",
   "execution_count": 35,
   "id": "a12a18ba-ffc3-4672-957f-9f767dafbc42",
   "metadata": {},
   "outputs": [
    {
     "data": {
      "text/plain": [
       "array(['45,000 kms', '40 kms', '22,000 kms', '28,000 kms', '36,000 kms',\n",
       "       '59,000 kms', '41,000 kms', '25,000 kms', '24,530 kms',\n",
       "       '60,000 kms', '30,000 kms', '32,000 kms', '48,660 kms',\n",
       "       '4,000 kms', '16,934 kms', '43,000 kms', '35,550 kms',\n",
       "       '39,522 kms', '39,000 kms', '55,000 kms', '72,000 kms',\n",
       "       '15,975 kms', '70,000 kms', '23,452 kms', '35,522 kms',\n",
       "       '48,508 kms', '15,487 kms', '82,000 kms', '20,000 kms',\n",
       "       '68,000 kms', '38,000 kms', '27,000 kms', '33,000 kms',\n",
       "       '46,000 kms', '16,000 kms', '47,000 kms', '35,000 kms',\n",
       "       '30,874 kms', '15,000 kms', '29,685 kms', '1,30,000 kms',\n",
       "       '19,000 kms', nan, '54,000 kms', '13,000 kms', '38,200 kms',\n",
       "       '50,000 kms', '13,500 kms', '3,600 kms', '45,863 kms',\n",
       "       '60,500 kms', '12,500 kms', '18,000 kms', '13,349 kms',\n",
       "       '29,000 kms', '44,000 kms', '42,000 kms', '14,000 kms',\n",
       "       '49,000 kms', '36,200 kms', '51,000 kms', '1,04,000 kms',\n",
       "       '33,333 kms', '33,600 kms', '5,600 kms', '7,500 kms', '26,000 kms',\n",
       "       '24,330 kms', '65,480 kms', '28,028 kms', '2,00,000 kms',\n",
       "       '99,000 kms', '2,800 kms', '21,000 kms', '11,000 kms',\n",
       "       '66,000 kms', '3,000 kms', '7,000 kms', '38,500 kms', '37,200 kms',\n",
       "       '43,200 kms', '24,800 kms', '45,872 kms', '40,000 kms',\n",
       "       '11,400 kms', '97,200 kms', '52,000 kms', '31,000 kms',\n",
       "       '1,75,430 kms', '37,000 kms', '65,000 kms', '3,350 kms',\n",
       "       '75,000 kms', '62,000 kms', '73,000 kms', '2,200 kms',\n",
       "       '54,870 kms', '34,580 kms', '97,000 kms', '60 kms', '80,200 kms',\n",
       "       '3,200 kms', '0,000 kms', '5,000 kms', '588 kms', '71,200 kms',\n",
       "       '1,75,400 kms', '9,300 kms', '56,758 kms', '10,000 kms',\n",
       "       '56,450 kms', '56,000 kms', '32,700 kms', '9,000 kms', '73 kms',\n",
       "       '1,60,000 kms', '84,000 kms', '58,559 kms', '57,000 kms',\n",
       "       '1,70,000 kms', '80,000 kms', '6,821 kms', '23,000 kms',\n",
       "       '34,000 kms', '1,800 kms', '4,00,000 kms', '48,000 kms',\n",
       "       '90,000 kms', '12,000 kms', '69,900 kms', '1,66,000 kms',\n",
       "       '122 kms', '0 kms', '24,000 kms', '36,469 kms', '7,800 kms',\n",
       "       '24,695 kms', '15,141 kms', '59,910 kms', '1,00,000 kms',\n",
       "       '4,500 kms', '1,29,000 kms', '300 kms', '1,31,000 kms',\n",
       "       '1,11,111 kms', '59,466 kms', '25,500 kms', '44,005 kms',\n",
       "       '2,110 kms', '43,222 kms', '1,00,200 kms', '65 kms',\n",
       "       '1,40,000 kms', '1,03,553 kms', '58,000 kms', '1,20,000 kms',\n",
       "       '49,800 kms', '100 kms', '81,876 kms', '6,020 kms', '55,700 kms',\n",
       "       '18,500 kms', '1,80,000 kms', '53,000 kms', '35,500 kms',\n",
       "       '22,134 kms', '1,000 kms', '8,500 kms', '87,000 kms', '6,000 kms',\n",
       "       '15,574 kms', '8,000 kms', '55,800 kms', '56,400 kms',\n",
       "       '72,160 kms', '11,500 kms', '1,33,000 kms', '2,000 kms',\n",
       "       '88,000 kms', '65,422 kms', '1,17,000 kms', '1,50,000 kms',\n",
       "       '10,750 kms', '6,800 kms', '5 kms', '9,800 kms', '57,923 kms',\n",
       "       '30,201 kms', '6,200 kms', '37,518 kms', '24,652 kms', '383 kms',\n",
       "       '95,000 kms', '3,528 kms', '52,500 kms', '47,900 kms',\n",
       "       '52,800 kms', '1,95,000 kms', '48,008 kms', '48,247 kms',\n",
       "       '9,400 kms', '64,000 kms', '2,137 kms', '10,544 kms', '49,500 kms',\n",
       "       '1,47,000 kms', '90,001 kms', '48,006 kms', '74,000 kms',\n",
       "       '85,000 kms', '29,500 kms', '39,700 kms', '67,000 kms',\n",
       "       '19,336 kms', '60,105 kms', '45,933 kms', '1,02,563 kms',\n",
       "       '28,600 kms', '41,800 kms', '1,16,000 kms', '42,590 kms',\n",
       "       '7,400 kms', '54,500 kms', '76,000 kms', '00 kms', '11,523 kms',\n",
       "       '38,600 kms', '95,500 kms', '37,458 kms', '85,960 kms',\n",
       "       '12,516 kms', '30,600 kms', '2,550 kms', '62,500 kms',\n",
       "       '69,000 kms', '28,400 kms', '68,485 kms', '3,500 kms',\n",
       "       '85,455 kms', '63,000 kms', '1,600 kms', '77,000 kms',\n",
       "       '26,500 kms', '2,875 kms', '13,900 kms', '1,500 kms', '2,450 kms',\n",
       "       '1,625 kms', '33,400 kms', '60,123 kms', '38,900 kms',\n",
       "       '1,37,495 kms', '91,200 kms', '1,46,000 kms', '1,00,800 kms',\n",
       "       '2,100 kms', '2,500 kms', '1,32,000 kms', 'Petrol'], dtype=object)"
      ]
     },
     "execution_count": 35,
     "metadata": {},
     "output_type": "execute_result"
    }
   ],
   "source": [
    "#lets work on kms driven\n",
    "ds[\"kms_driven\"].unique()"
   ]
  },
  {
   "cell_type": "code",
   "execution_count": 41,
   "id": "6abcd4cf-0afa-4224-98dd-bd89c320267a",
   "metadata": {},
   "outputs": [],
   "source": [
    "# Ensure the DataFrame is clean and avoid SettingWithCopyWarning\n",
    "ds = ds.copy()\n",
    "\n",
    "# Clean the 'kms_driven' column\n",
    "ds[\"kms_driven\"] = (\n",
    "    ds[\"kms_driven\"]\n",
    "    .astype(str)  # Convert all values to strings\n",
    "    .str.replace(\",\", \"\", regex=False)  # Remove commas\n",
    "    .str.replace(\" kms\", \"\", regex=False)  # Remove ' kms'\n",
    ")\n",
    "\n",
    "# Convert the cleaned column to numeric (NaN for invalid entries)\n",
    "ds[\"kms_driven\"] = pd.to_numeric(ds[\"kms_driven\"], errors=\"coerce\")\n"
   ]
  },
  {
   "cell_type": "code",
   "execution_count": 42,
   "id": "739ef466-3705-4511-b11d-1cd3a9094ae0",
   "metadata": {},
   "outputs": [
    {
     "name": "stdout",
     "output_type": "stream",
     "text": [
      "<class 'pandas.core.frame.DataFrame'>\n",
      "Index: 842 entries, 0 to 891\n",
      "Data columns (total 6 columns):\n",
      " #   Column      Non-Null Count  Dtype  \n",
      "---  ------      --------------  -----  \n",
      " 0   name        842 non-null    object \n",
      " 1   company     842 non-null    object \n",
      " 2   year        842 non-null    int64  \n",
      " 3   Price       819 non-null    float64\n",
      " 4   kms_driven  838 non-null    float64\n",
      " 5   fuel_type   837 non-null    object \n",
      "dtypes: float64(2), int64(1), object(3)\n",
      "memory usage: 78.3+ KB\n"
     ]
    }
   ],
   "source": [
    "ds.info()"
   ]
  },
  {
   "cell_type": "code",
   "execution_count": 49,
   "id": "76492c41-ecfc-4021-a290-1416e478120e",
   "metadata": {},
   "outputs": [],
   "source": [
    "for i in ds.index:\n",
    "    kms_driven=ds.loc[i,\"kms_driven\"]\n",
    "    if kms_driven<1000:\n",
    "        ds.drop(i,inplace=True)"
   ]
  },
  {
   "cell_type": "code",
   "execution_count": 50,
   "id": "61d5fbd2-59a2-4ff5-95dd-8b0c97ecbb37",
   "metadata": {},
   "outputs": [
    {
     "name": "stdout",
     "output_type": "stream",
     "text": [
      "<class 'pandas.core.frame.DataFrame'>\n",
      "Index: 821 entries, 0 to 891\n",
      "Data columns (total 6 columns):\n",
      " #   Column      Non-Null Count  Dtype  \n",
      "---  ------      --------------  -----  \n",
      " 0   name        821 non-null    object \n",
      " 1   company     821 non-null    object \n",
      " 2   year        821 non-null    int64  \n",
      " 3   Price       800 non-null    float64\n",
      " 4   kms_driven  817 non-null    float64\n",
      " 5   fuel_type   816 non-null    object \n",
      "dtypes: float64(2), int64(1), object(3)\n",
      "memory usage: 77.2+ KB\n"
     ]
    }
   ],
   "source": [
    "ds.info()"
   ]
  },
  {
   "cell_type": "code",
   "execution_count": 53,
   "id": "6d1468d8-40eb-4e9b-aacd-10204fb84bea",
   "metadata": {},
   "outputs": [
    {
     "data": {
      "text/plain": [
       "array(['Petrol', 'Diesel', 'LPG'], dtype=object)"
      ]
     },
     "execution_count": 53,
     "metadata": {},
     "output_type": "execute_result"
    }
   ],
   "source": [
    "ds[\"fuel_type\"].unique()"
   ]
  },
  {
   "cell_type": "code",
   "execution_count": 52,
   "id": "dd93cfc1-ef0a-477d-83aa-dd13abd81f71",
   "metadata": {},
   "outputs": [],
   "source": [
    "ds.dropna(inplace=True)"
   ]
  },
  {
   "cell_type": "code",
   "execution_count": 54,
   "id": "0b14bded-75f9-435a-b6df-cb08bd9e91a8",
   "metadata": {},
   "outputs": [
    {
     "data": {
      "text/plain": [
       "array(['Hyundai', 'Ford', 'Maruti', 'Skoda', 'Mahindra', 'Audi', 'Toyota',\n",
       "       'Renault', 'Honda', 'Datsun', 'Mitsubishi', 'Tata', 'Volkswagen',\n",
       "       'Chevrolet', 'Mini', 'BMW', 'Nissan', 'Hindustan', 'Fiat', 'Force',\n",
       "       'Mercedes', 'Land', 'Jaguar', 'Jeep', 'Volvo'], dtype=object)"
      ]
     },
     "execution_count": 54,
     "metadata": {},
     "output_type": "execute_result"
    }
   ],
   "source": [
    "ds[\"company\"].unique()"
   ]
  },
  {
   "cell_type": "code",
   "execution_count": 61,
   "id": "f2f2a099-74c4-4d36-8480-253a77c2d29b",
   "metadata": {},
   "outputs": [
    {
     "data": {
      "text/plain": [
       "array(['Santro Xing XO eRLX Euro III', 'Grand i10 Magna 1.2 Kappa VTVT',\n",
       "       'EcoSport Titanium 1.5L TDCi', 'Figo', 'Eon',\n",
       "       'EcoSport Ambiente 1.5L TDCi', 'Suzuki Alto K10 VXi AMT',\n",
       "       'Fabia Classic 1.2 MPI', 'Suzuki Stingray VXi',\n",
       "       'Elite i20 Magna 1.2', 'Scorpio SLE BS IV', 'A8', 'Q7',\n",
       "       'Scorpio S10', 'Suzuki Alto 800', 'Suzuki Alto 800 Vxi',\n",
       "       'i20 Sportz 1.2', 'Suzuki Alto 800 Lx', 'Suzuki Vitara Brezza ZDi',\n",
       "       'Suzuki Alto LX', 'Bolero DI', 'Suzuki Swift Dzire ZDi',\n",
       "       'Scorpio S10 4WD', 'Suzuki Swift Vdi BSIII',\n",
       "       'Suzuki Wagon R VXi BS III', 'Suzuki Wagon R VXi Minor',\n",
       "       'Innova 2.0 G 8 STR BS IV', 'Lodgy 85 PS RXL',\n",
       "       'Yeti Ambition 2.0 TDI CR 4x2', 'Suzuki Baleno Delta 1.2',\n",
       "       'Duster 110 PS RxZ Diesel Plus', 'Duster 85 PS RxE Diesel',\n",
       "       'City 1.5 S MT', 'Suzuki Dzire', 'Amaze', 'Amaze 1.5 SX i DTEC',\n",
       "       'City', 'Redi GO S', 'Suzuki SX4 ZXI MT',\n",
       "       'Pajero Sport Limited Edition', 'Suzuki Swift VXi 1.2 ABS BS IV',\n",
       "       'City ZX CVT', 'Suzuki Wagon R LX BS IV',\n",
       "       'Indigo eCS LS CR4 BS IV', 'Polo Highline Exquisite P',\n",
       "       'Spark LS 1.0', 'Duster 110PS Diesel RxZ', 'Cooper S 1.6',\n",
       "       'Fabia 1.2L Diesel Ambiente', 'Duster', 'Scorpio S4',\n",
       "       'Scorpio VLX 2WD BS IV', 'Quanto C8', 'EcoSport', 'Brio',\n",
       "       'Vento Highline Plus 1.5 Diesel AT', 'i20 Magna',\n",
       "       'Corolla Altis Diesel D4DG', 'Verna Transform SX VTVT',\n",
       "       'Corolla Altis Petrol Ltd', 'City 1.5 EXi New',\n",
       "       'Fabia 1.2L Diesel Elegance', '3 Series 320i', 'Suzuki A Star Lxi',\n",
       "       'Etios GD', 'Figo Diesel EXI Option',\n",
       "       'Suzuki Swift Dzire VXi 1.2 BS IV', 'Beat LT Diesel',\n",
       "       '7 Series 740Li Sedan', 'XUV500 W8 AWD 2013', 'i10 Magna 1.2',\n",
       "       'Verna Fluidic New', 'Suzuki Swift VXi 1.2 BS IV',\n",
       "       'Suzuki Ertiga ZXI Plus', 'Suzuki Ertiga Vxi', 'Suzuki Ertiga VDi',\n",
       "       'Suzuki Alto LXi BS III', 'Grand i10 Asta 1.1 CRDi',\n",
       "       'Amaze 1.2 S i VTEC', 'i20 Asta 1.4 CRDI 6 Speed',\n",
       "       'Figo Diesel EXI', 'Suzuki Eeco 5 STR WITH AC HTR',\n",
       "       'Suzuki Ertiga ZXi', 'Suzuki Esteem LXi BS III', 'Suzuki Ritz VXI',\n",
       "       'Suzuki Ritz LDi', 'Suzuki Dzire VDI', 'Etios Liva G',\n",
       "       'i20 Sportz 1.4 CRDI', 'Spark', 'Micra XV', 'Suzuki Swift',\n",
       "       'Amaze 1.5 S i DTEC', 'Beat', 'City 1.5 V MT',\n",
       "       'EcoSport Trend 1.5L TDCi', 'i20 Asta 1.2', 'Indica V2 eLS',\n",
       "       'Motors Ambassador', 'Corolla Altis 1.8 GL', 'Corolla Altis 1.8 J',\n",
       "       'Innova 2.5 GX BS IV 7 STR', 'Jetta Highline TDI AT',\n",
       "       'Polo Comfortline 1.2L P', 'Polo', 'Scorpio', 'Sunny', 'Elite i20',\n",
       "       'Kwid', 'Scorpio VLX Airbag', 'Suzuki Alto 800 Lxi',\n",
       "       'Spark LT 1.0', 'Redi GO T O', 'Suzuki Swift RS VDI',\n",
       "       'Punto Emotion 1.2', 'i10 Sportz 1.2', 'Beat LT Opt Diesel',\n",
       "       'Beat LS Diesel', 'Indigo CS', 'Suzuki Swift VDi', 'Eon Era Plus',\n",
       "       'XUV500', 'Fiesta', 'Suzuki Wagon R', 'i20',\n",
       "       'Indigo eCS LX TDI BS III', 'Fluidic Verna 1.6 CRDi SX',\n",
       "       'Petra ELX 1.2 PS', 'Santro Xing XS', 'Suzuki Ciaz VXi Plus',\n",
       "       'Suzuki Zen VX', 'Creta 1.6 SX Plus Petrol', 'Scorpio SLX',\n",
       "       'Innova 2.5 G BS III 8 STR', 'Suzuki Wagon R LXI BS IV',\n",
       "       'Nano Cx BSIV', 'Suzuki Alto Std BS IV',\n",
       "       'Suzuki Wagon R LXi BS III', 'Suzuki Swift VXI BSIII',\n",
       "       'Sumo Victa EX 10 by 7 Str BSIII', 'Passat Diesel Comfortline AT',\n",
       "       'Scala RxL Diesel Travelogue', 'Grand i10 Sportz O 1.2 Kappa VTVT',\n",
       "       'i20 Active 1.2 SX', 'Xylo E4', 'Bolero SLE BS IV',\n",
       "       'Motors One LX ABS 7 STR', 'Suzuki SX4', 'Etios', 'City ZX VTEC',\n",
       "       'Suzuki Wagon R LX BS III', 'City VX O MT Diesel',\n",
       "       'Thar CRDe 4x4 AC', 'A4 1.8 TFSI Multitronic Premium Plus',\n",
       "       'Benz GLA Class 200 CDI Sport', 'Rover Freelander 2 SE',\n",
       "       'Kwid RXT', 'Aria Pleasure 4X2', 'Benz B Class B180 Sports',\n",
       "       'GO T O', 'Jazz VX MT', 'i20 Active 1.4L SX O', 'Cooper S',\n",
       "       'Suzuki Ciaz ZXI Plus', 'Tavera Neo', 'Eon Sportz',\n",
       "       'Sumo Gold Select Variant', 'Suzuki Wagon R 1.0',\n",
       "       'Suzuki Esteem VXi BS III', 'Enjoy 1.4 LS 8 STR',\n",
       "       'Suzuki Wagon R 1.0 VXi', 'Terrano XL D Plus',\n",
       "       'Duster 85 PS RxL Diesel', 'Suzuki Dzire ZXI', 'Kwid RXT Opt',\n",
       "       'Suzuki 800 Std', 'Kwid 1.0 RXT AMT', 'Scala RxL Diesel',\n",
       "       'Grand i10 Asta 1.2 Kappa VTVT O', 'Beat LS Petrol', 'Accent GLX',\n",
       "       'TUV300 T4 Plus', 'Indica V2 Xeta e GLE', 'Indigo CS LS DiCOR',\n",
       "       'Scorpio VLX Special Edition BS III', 'Accord',\n",
       "       'EcoSport Titanium 1.5 TDCi', 'Suzuki Ertiga', 'Scorpio 2.6 CRDe',\n",
       "       'Mobilio', 'Corolla Altis', 'Laura', 'Verna Fluidic',\n",
       "       'Suzuki Vitara Brezza', 'Manza Aura Quadrajet',\n",
       "       'Sail UVA Petrol LT ABS', 'Verna Fluidic 1.6 VTVT SX',\n",
       "       'A4 2.0 TDI 177bhp Premium', 'Elantra SX',\n",
       "       'Scorpio VLX 4WD Airbag', 'KUV100 K8 D 6 STR', 'Grand i10', 'i10',\n",
       "       'i20 Active', 'Redi GO', 'Etios Liva', 'Accent', 'Verna',\n",
       "       'Fortuner', 'i10 Sportz', 'Bolero Power Plus SLE',\n",
       "       'City 1.5 V MT Exclusive', 'Spark LT 1.0 Airbag',\n",
       "       'Indigo eCS VX CR4 BS IV', 'Rapid Elegance 1.6 TDI CR MT',\n",
       "       'Vista Quadrajet VX', 'Suzuki Alto K10 VXi AT',\n",
       "       'Suzuki Zen LXi BS III', 'Suzuki Swift Dzire Tour LDi',\n",
       "       'City ZX EXi', 'Beat Diesel', 'Verna 1.4 VTVT',\n",
       "       'Suzuki 800 Std – Befo', 'Elite i20 Asta 1.4 CRDI',\n",
       "       'Suzuki Versa DX2 8 SEATER BSIII', 'Indigo LX TDI BS III',\n",
       "       'Vento Konekt Diesel Highline', 'Benz C Class 200 CDI Classic',\n",
       "       'Santro Xing GLS', 'Suzuki Omni Limited Edition',\n",
       "       'Sonata Transform 2.4 GDi MT', 'Elite i20 Sportz 1.2', 'Jazz S MT',\n",
       "       'Grand i10 Sportz 1.2 Kappa VTVT', 'Suzuki Zen LXi BSII',\n",
       "       'Scorpio W Turbo 2.6DX 9 Seater', 'Suzuki Alto K10 VXi',\n",
       "       'Grand i10 Asta 1.2 Kappa VTVT', 'XUV500 W8', 'i20 Magna O 1.2',\n",
       "       'Duster 85 PS RxL Explore LE', 'Brio V MT', 'TUV300 T8',\n",
       "       'Ikon 1.3 CLXi NXt Finesse', 'Fortuner 3.0 4x4 MT',\n",
       "       'Manza ELAN Quadrajet', 'Benz A Class A 180 Sport Petrol',\n",
       "       'Indigo LS', 'i20 Magna 1.2', 'Amaze 1.5 E i DTEC',\n",
       "       'Verna 1.6 EX VTVT', '5 Series 520d Sedan', 'Superb 1.8 TFSI AT',\n",
       "       'Q3 2.0 TDI quattro Premium', 'Bolero DI BSII',\n",
       "       'Figo Duratorq Diesel Titanium 1.4', 'Suzuki Wagon R VXI BS IV',\n",
       "       'Logan Diesel 1.5 DLS', 'Nano GenX XMA', 'City SV',\n",
       "       'Figo Petrol LXI', 'i10 Magna 1.2 Kappa2', 'Corolla H2',\n",
       "       'Indigo CS eLS BS IV', 'Xcent Base 1.1 CRDi',\n",
       "       'Accent Executive Edition', 'Zest XE 75 PS Diesel',\n",
       "       'Suzuki Dzire LDI', 'Sumo Gold LX BS IV',\n",
       "       'Corolla Altis GL Petrol', 'Suzuki Eeco 7 STR',\n",
       "       'Fortuner 3.0 4x2 MT', 'XUV500 W6', 'Suzuki 800',\n",
       "       'Mobilio S i DTEC', 'Verna 1.6 CRDI E',\n",
       "       'Suzuki Omni Select Variant', 'Indica', 'Santro Xing',\n",
       "       'Suzuki Zen Estilo', 'Brio VX AT',\n",
       "       'Suzuki Zen Estilo LXI Green CNG', 'Suzuki Wagon R Select Variant',\n",
       "       'Nano Lx BSIV', 'XE XE Portfolio', 'Eon Magna Plus',\n",
       "       'Suzuki Ritz GENUS VXI', 'Grand i10 Magna AT 1.2 Kappa VTVT',\n",
       "       'Eon D Lite Plus', 'Amaze 1.2 VX i VTEC',\n",
       "       'Suzuki Estilo VXi ABS BS IV', 'Suzuki Vitara Brezza LDi O',\n",
       "       'Creta 1.6 SX Plus Petrol AT', 'Scorpio Vlx BSIV',\n",
       "       'Lancer 1.8 LXi', 'Suzuki 800 AC', 'Suzuki Alto 800 LXI CNG O',\n",
       "       'Fiesta SXi 1.6 ABS', 'Suzuki Ritz VDi', 'Suzuki Estilo LX BS IV',\n",
       "       'A6 2.0 TDI Premium', 'Suzuki Alto', 'Suzuki Baleno Sigma 1.2',\n",
       "       'Verna 1.6 SX VTVT AT', 'Suzuki Swift GLAM', 'Getz Prime 1.3 GVS',\n",
       "       'Santro', 'Getz Prime 1.3 GLX', 'Beat PS Diesel',\n",
       "       'EcoSport Trend 1.5 Ti VCT', 'Indica V2 DLG', 'X1 xDrive20d xLine',\n",
       "       'City 1.5 V AT', 'Nano', 'Cruze LTZ AT', 'Suzuki Swift Dzire VDi',\n",
       "       'XUV500 W10', 'Suzuki Alto K10 LXi CNG', 'Accent GLE',\n",
       "       'Motors One SUV', 'Spark 1.0 LT', 'Etios Liva GD',\n",
       "       'Duster 85PS Diesel RxL Optional with Nav', 'Enjoy',\n",
       "       '5 Series 530i', 'Cruze LTZ', 'Wrangler Unlimited 4x4 Diesel',\n",
       "       'Verna VGT CRDi SX ABS', 'Suzuki Omni', 'Suzuki Celerio VDi',\n",
       "       'Zest Quadrajet 1.3', 'Indigo CS eLX BS IV', 'i10 Era',\n",
       "       'Indigo eCS LX CR4 BS IV', 'Indigo Marina LS', 'Xcent SX 1.2',\n",
       "       'Nano LX Special Edition', 'Duster 110 PS RxZ Diesel',\n",
       "       'Suzuki Wagon R AX BSIV', 'Suzuki Alto K10 New', 'Xylo E8',\n",
       "       'Manza Aqua Quadrajet', 'Kwid 1.0', 'Venture EX 8 STR',\n",
       "       'Suzuki Swift Dzire Tour LXi', 'Octavia Classic 1.9 TDI MT',\n",
       "       'Suzuki Omni LPG BS IV', 'Sumo Gold EX BS IV', 'Verna 1.6 CRDI SX',\n",
       "       'Scorpio SLX 2.6 Turbo 8 Str', 'Ikon 1.6 Nxt',\n",
       "       'Innova 2.5 V 7 STR', 'Sunny XL', 'Suzuki Swift VDi BS IV',\n",
       "       'Innova 2.0 G4', 'Suzuki Swift VDi ABS', 'Elite i20 Asta 1.2',\n",
       "       'Polo Trendline 1.5L D', 'Etios Liva Diesel',\n",
       "       'Suzuki Ciaz ZXi Plus RS', 'Elantra 1.8 S',\n",
       "       'EcoSport Trend 1.5L Ti VCT', 'Indica eV2 LS',\n",
       "       'XF 2.2 Diesel Luxury', 'Q5 2.0 TDI quattro Premium Plus',\n",
       "       '3 Series 320d Sedan', 'Suzuki Swift ZXi 1.2 BS IV',\n",
       "       'X1 sDrive20d', 'Suzuki S Cross Sigma 1.3', 'Suzuki Ertiga LDi',\n",
       "       'Vento Comfortline Petrol', 'KUV100',\n",
       "       'Suzuki Swift Dzire Tour VDi', 'Scorpio 2.6 SLX',\n",
       "       'Suzuki Omni 8 STR BS III', 'Jetta Comfortline 1.9 TDI AT',\n",
       "       'S80 Summum D4', 'Corolla Altis VL AT Petrol',\n",
       "       'Pajero Sport 2.5 AT', 'Beat LT Petrol', 'X1',\n",
       "       'Benz C Class C 220 CDI Avantgarde', 'Vento Comfortline Diesel',\n",
       "       'Indigo CS GLS', 'City ZX GXi', 'Suzuki Wagon R Duo Lxi',\n",
       "       'Suzuki Zen LX BSII', 'Duster RxL Petrol',\n",
       "       'Suzuki Baleno Zeta 1.2', 'WR V S MT Petrol',\n",
       "       'Duster 110 PS RxL Diesel', 'Scorpio LX BS III',\n",
       "       'Suzuki SX4 Celebration Diesel', 'A3 Cabriolet 40 TFSI',\n",
       "       'Santro AE GLS Audio', 'Xylo D2 BS IV', 'Getz GLE',\n",
       "       'Santro Xing XL AT eRLX Euro III', 'Santro Xing XL eRLX Euro III',\n",
       "       'Indica V2 DLS BS III', 'City 1.5 E MT', 'Micra XL',\n",
       "       'City 1.5 S Inspire', 'Indica eV2 eXeta eGLX',\n",
       "       'Suzuki Omni E 8 STR BS IV', 'Suzuki Swift LDi',\n",
       "       'Verna 1.6 CRDI SX Plus AT', 'Tavera LS B3 10 Seats BSII',\n",
       "       'Tiago Revotron XM', 'Motors Ambassador Classic Mark 4 – Befo',\n",
       "       'Fusion 1.4 TDCi Diesel', 'Linea Emotion 1.4 L T Jet Petrol',\n",
       "       'Ikon 1.3 Flair Josh 100', 'Indica V2 LS', 'Xylo D2', 'Corolla',\n",
       "       'Eon Magna', 'Sumo Grande MKII GX', 'Polo Highline1.2L P',\n",
       "       'Tiago Revotron XZ', 'Indigo eCS', 'Xylo E8 BS IV',\n",
       "       'Sumo Gold FX BSIII', 'Creta', 'Bolt XM Petrol', 'Suzuki Ritz',\n",
       "       'i20 Asta', 'Suzuki Swift Select Variant', 'Indica V2 DLX BS III',\n",
       "       'Scorpio VLX 2.2 mHawk Airbag BSIV', 'Innova 2.5 E 8 STR',\n",
       "       'KUV100 K8 6 STR', 'Go Plus', 'Endeavor 4x4 Thunder Plus',\n",
       "       'Indica V2', 'Santro Xing GL', 'Innova 2.5 Z Diesel 7 Seater',\n",
       "       'Suzuki Alto AX', 'Logan', 'Suzuki 800 Std BS III', 'Sail 1.2 LS',\n",
       "       'Manza', 'Etios G', 'Qualis', 'Quanto C4', 'Suzuki Swift Dzire',\n",
       "       'i20 Select Variant', 'City VX Petrol', 'Getz',\n",
       "       'Benz C Class 200 K MT', 'Fabia', 'Suzuki Ritz VXI ABS',\n",
       "       'Indica V2 DLE BS III', 'Zest XM Diesel'], dtype=object)"
      ]
     },
     "execution_count": 61,
     "metadata": {},
     "output_type": "execute_result"
    }
   ],
   "source": [
    "ds[\"name\"].unique()"
   ]
  },
  {
   "cell_type": "code",
   "execution_count": 60,
   "id": "ca393ecb-41c5-4acf-bed9-144807332911",
   "metadata": {},
   "outputs": [],
   "source": [
    "for i in ds.index:\n",
    "    name = ds.loc[i, \"name\"]  # Use loc for mixed indexing (row + column)\n",
    "    company = ds.loc[i, \"company\"]\n",
    "    \n",
    "    # Ensure 'name' and 'company' are strings to avoid attribute errors\n",
    "    name = str(name)\n",
    "    company = str(company)\n",
    "    \n",
    "    # Remove the company name from the 'name' column if it exists\n",
    "    name = name.replace(company + \" \", \"\")\n",
    "    ds.loc[i, \"name\"] = name\n"
   ]
  },
  {
   "cell_type": "code",
   "execution_count": 62,
   "id": "af5b9484-e79a-49e3-946c-bb9329ec386c",
   "metadata": {},
   "outputs": [
    {
     "name": "stdout",
     "output_type": "stream",
     "text": [
      "<class 'pandas.core.frame.DataFrame'>\n",
      "Index: 797 entries, 0 to 889\n",
      "Data columns (total 6 columns):\n",
      " #   Column      Non-Null Count  Dtype  \n",
      "---  ------      --------------  -----  \n",
      " 0   name        797 non-null    object \n",
      " 1   company     797 non-null    object \n",
      " 2   year        797 non-null    int64  \n",
      " 3   Price       797 non-null    float64\n",
      " 4   kms_driven  797 non-null    float64\n",
      " 5   fuel_type   797 non-null    object \n",
      "dtypes: float64(2), int64(1), object(3)\n",
      "memory usage: 75.9+ KB\n"
     ]
    }
   ],
   "source": [
    "ds.info()"
   ]
  },
  {
   "cell_type": "code",
   "execution_count": 63,
   "id": "1e655619-d2a6-463b-a888-af549c4c5ff8",
   "metadata": {},
   "outputs": [
    {
     "data": {
      "text/plain": [
       "0      False\n",
       "3      False\n",
       "4      False\n",
       "6      False\n",
       "7      False\n",
       "       ...  \n",
       "883    False\n",
       "885    False\n",
       "886    False\n",
       "888    False\n",
       "889    False\n",
       "Length: 797, dtype: bool"
      ]
     },
     "execution_count": 63,
     "metadata": {},
     "output_type": "execute_result"
    }
   ],
   "source": [
    "ds.duplicated()"
   ]
  },
  {
   "cell_type": "code",
   "execution_count": 65,
   "id": "ae9676d2-e04f-4a0c-8526-520dde720b0c",
   "metadata": {},
   "outputs": [],
   "source": [
    "ds.drop_duplicates(inplace=True)"
   ]
  },
  {
   "cell_type": "code",
   "execution_count": 66,
   "id": "7871f665-919f-4739-a165-a5f6966c138a",
   "metadata": {},
   "outputs": [
    {
     "name": "stdout",
     "output_type": "stream",
     "text": [
      "<class 'pandas.core.frame.DataFrame'>\n",
      "Index: 709 entries, 0 to 889\n",
      "Data columns (total 6 columns):\n",
      " #   Column      Non-Null Count  Dtype  \n",
      "---  ------      --------------  -----  \n",
      " 0   name        709 non-null    object \n",
      " 1   company     709 non-null    object \n",
      " 2   year        709 non-null    int64  \n",
      " 3   Price       709 non-null    float64\n",
      " 4   kms_driven  709 non-null    float64\n",
      " 5   fuel_type   709 non-null    object \n",
      "dtypes: float64(2), int64(1), object(3)\n",
      "memory usage: 38.8+ KB\n"
     ]
    }
   ],
   "source": [
    "ds.info()"
   ]
  },
  {
   "cell_type": "code",
   "execution_count": 67,
   "id": "2f2286b6-dcb2-4d1b-bda2-236d610557d4",
   "metadata": {},
   "outputs": [],
   "source": [
    "ds.to_csv(\"clean_data.csv\")"
   ]
  },
  {
   "cell_type": "code",
   "execution_count": null,
   "id": "74d5f586-33b4-4185-8a6e-a2fb7c1337e3",
   "metadata": {},
   "outputs": [],
   "source": []
  }
 ],
 "metadata": {
  "kernelspec": {
   "display_name": "Python 3.12",
   "language": "python",
   "name": "python312"
  },
  "language_info": {
   "codemirror_mode": {
    "name": "ipython",
    "version": 3
   },
   "file_extension": ".py",
   "mimetype": "text/x-python",
   "name": "python",
   "nbconvert_exporter": "python",
   "pygments_lexer": "ipython3",
   "version": "3.12.1"
  }
 },
 "nbformat": 4,
 "nbformat_minor": 5
}
